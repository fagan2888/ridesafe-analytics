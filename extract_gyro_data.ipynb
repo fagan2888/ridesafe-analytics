{
 "cells": [
  {
   "cell_type": "code",
   "execution_count": 1,
   "metadata": {
    "collapsed": false
   },
   "outputs": [
    {
     "data": {
      "text/plain": [
       "7596"
      ]
     },
     "execution_count": 1,
     "metadata": {},
     "output_type": "execute_result"
    }
   ],
   "source": [
    "# Read the CSV file and extract the gyro data\n",
    "\n",
    "import pandas as pd\n",
    "import numpy as np\n",
    "import matplotlib.pyplot as plt\n",
    "import matplotlib.dates as mdate\n",
    "import matplotlib.ticker as mtick\n",
    "from datetime import datetime\n",
    "import time\n",
    "\n",
    "df = pd.read_csv('datasets/2016-06-08_tests.csv')\n",
    "\n",
    "f = lambda x: df[x] != 0\n",
    "df = df[f('gyr_x') & f('gyr_y') & f('gyr_z')]\n",
    "\n",
    "# Select data between Sat, 06 Aug 2016 12:38:22.552 GMT and 13:19:49.507 GMT \n",
    "df_extract = df[(df['timestamp'] > 1470487102552) & (df['timestamp'] < 1470489589507)]\n",
    "\n",
    "# Sort & reindex data\n",
    "df_extract = df_extract.sort_values(['timestamp'])\n",
    "df_extract = df_extract.reset_index(drop=True)\n",
    "\n",
    "len(df_extract) # must be 7596"
   ]
  },
  {
   "cell_type": "code",
   "execution_count": null,
   "metadata": {
    "collapsed": true
   },
   "outputs": [],
   "source": []
  }
 ],
 "metadata": {
  "kernelspec": {
   "display_name": "Python 3",
   "language": "python",
   "name": "python3"
  },
  "language_info": {
   "codemirror_mode": {
    "name": "ipython",
    "version": 3
   },
   "file_extension": ".py",
   "mimetype": "text/x-python",
   "name": "python",
   "nbconvert_exporter": "python",
   "pygments_lexer": "ipython3",
   "version": "3.4.1"
  }
 },
 "nbformat": 4,
 "nbformat_minor": 0
}
