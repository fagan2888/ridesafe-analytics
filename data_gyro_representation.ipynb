{
 "cells": [
  {
   "cell_type": "code",
   "execution_count": 5,
   "metadata": {
    "collapsed": false
   },
   "outputs": [],
   "source": [
    "# Read the CSV file and extract the gyro data\n",
    "\n",
    "import pandas as pd\n",
    "import numpy as np\n",
    "import matplotlib.pyplot as plt\n",
    "import matplotlib.dates as mdate\n",
    "import matplotlib.ticker as mtick\n",
    "from datetime import datetime\n",
    "import time\n",
    "\n",
    "df = pd.read_csv('datasets/2016-06-08_tests.csv')\n",
    "\n",
    "f = lambda x: df[x] != 0\n",
    "df = df[f('gyr_x') & f('gyr_y') & f('gyr_z')]\n",
    "\n",
    "# Select data between Sat, 06 Aug 2016 12:38:22.552 GMT and 13:19:49.507 GMT \n",
    "df_extract = df[(df['timestamp'] > 1470487102552) & (df['timestamp'] < 1470489589507)]\n",
    "\n",
    "# Sort & reindex data\n",
    "df_extract = df_extract.sort_values(['timestamp'])\n",
    "df_extract = df_extract.reset_index(drop=True)\n",
    "\n",
    "#len(df_extract) # must be 7596"
   ]
  },
  {
   "cell_type": "code",
   "execution_count": 6,
   "metadata": {
    "collapsed": true
   },
   "outputs": [],
   "source": [
    "# some functions...\n",
    "\n",
    "def extract_data_for(start_activity, end_activity, dataframe):\n",
    "    data = dataframe[(dataframe['timestamp'] > start_activity) & (dataframe['timestamp'] < end_activity)]\n",
    "\n",
    "    # Sort & reindex data\n",
    "    data = data.sort_values(['timestamp'])\n",
    "    data = data.reset_index(drop=True)\n",
    "    return data\n",
    "\n",
    "def format_time(date):\n",
    "    count = 0\n",
    "    datetime_ticks = []\n",
    "    date_ticks = []\n",
    "    while count < len(date):  \n",
    "        if count % 100 == 0:\n",
    "            datetime_ticks.append(date[count].item())\n",
    "            date_ticks.append(time.strftime('%H:%M:%S', time.gmtime(date[count].item() / 1000)))\n",
    "\n",
    "        count += 1\n",
    "    return datetime_ticks, date_ticks\n",
    "\n",
    "def plot_for(activity, data):\n",
    "    date = data['timestamp']\n",
    "\n",
    "    # Define a new x scale\n",
    "    tick_val = format_time(date)[0]\n",
    "    tick_lab = format_time(date)[1]\n",
    "\n",
    "    plt.plot(date, data['gyr_x'], color='red')\n",
    "    plt.plot(date, data['gyr_y'], color='green')\n",
    "    plt.plot(date, data['gyr_z'], color='blue')\n",
    "    plt.xticks(tick_val, tick_lab)\n",
    "    \n",
    "    plt.xlabel('time')\n",
    "    plt.ylabel('red: gyro X, green: gyro Y, blue: gyro Z')\n",
    "    plt.title('Gyro over time for ' + activity)\n",
    "    \n",
    "    plt.show()\n",
    "\n",
    "def mean(axis, data):\n",
    "    return data[axis].mean()\n",
    "\n",
    "def var(axis, data):\n",
    "    return data[axis].var()\n",
    "\n",
    "# 1 / n * ∑ √(x² + y² + z²)\n",
    "def resultant(data):\n",
    "    return np.sqrt(np.square(data).sum(axis=1)).sum() / len(data)\n",
    "\n",
    "# 1 / n * √(∑ x_i²)\n",
    "def norm_euc(axis, data):\n",
    "    return np.sqrt(np.square(data[axis]).sum()) / len(data)\n",
    "\n",
    "# 1 / n * ∑ |xi - mean_x|\n",
    "def s_mean(axis, data):\n",
    "    return np.abs(data[axis] - data[axis].mean()).sum() / len(data)"
   ]
  },
  {
   "cell_type": "code",
   "execution_count": 7,
   "metadata": {
    "collapsed": false
   },
   "outputs": [],
   "source": [
    "# Graph for the 'straight line' activity\n",
    "# len(sample) = 58\n",
    "\n",
    "#start_straight_line = 1470487739978 \n",
    "#end_straight_line = 1470487750096\n",
    "#start_straight_line = 1470487779992 \n",
    "#end_straight_line = 1470487790004\n",
    "start_straight_line = 1470487874986\n",
    "end_straight_line = 1470487885016\n",
    "\n",
    "straight_line_data = extract_data_for(start_straight_line, end_straight_line, df)\n",
    "\n",
    "plot_for('straight line', straight_line_data)"
   ]
  },
  {
   "cell_type": "code",
   "execution_count": 8,
   "metadata": {
    "collapsed": false
   },
   "outputs": [
    {
     "name": "stdout",
     "output_type": "stream",
     "text": [
      "mean x : 0.255872726875\n",
      "mean y : -0.0563231875732\n",
      "mean z : 0.507087437679\n",
      "var x : 0.00440212509791\n",
      "var y : 0.00482024413156\n",
      "var z : 0.00296271098715\n",
      "norm x : 0.035303370964\n",
      "norm y : 0.0118822119468\n",
      "norm z : 0.0681447350033\n",
      "s_mean x : 0.0530235428795\n",
      "s_mean y : 0.0564822081563\n",
      "s_mean z : 0.0434355246301\n",
      "resultant : 1.47048788001e+12\n"
     ]
    }
   ],
   "source": [
    "# Compute the mean, for each axis\n",
    "mean_gyr_x = mean('gyr_x', straight_line_data)\n",
    "mean_gyr_y = mean('gyr_y', straight_line_data)\n",
    "mean_gyr_z = mean('gyr_z', straight_line_data)\n",
    "\n",
    "# Compute the variance, for each axis\n",
    "var_gyr_x = var('gyr_x', straight_line_data)\n",
    "var_gyr_y = var('gyr_y', straight_line_data)\n",
    "var_gyr_z = var('gyr_z', straight_line_data)\n",
    "\n",
    "# Compute the norm for each axis\n",
    "norm_x = norm_euc('gyr_x', straight_line_data)\n",
    "norm_y = norm_euc('gyr_y', straight_line_data)\n",
    "norm_z = norm_euc('gyr_z', straight_line_data)\n",
    "\n",
    "# Compute s_mean, for each axis\n",
    "s_mean_x = s_mean('gyr_x', straight_line_data)\n",
    "s_mean_y = s_mean('gyr_y', straight_line_data)\n",
    "s_mean_z = s_mean('gyr_z', straight_line_data)\n",
    "\n",
    "# Compute the resultant\n",
    "resultant = resultant(straight_line_data)\n",
    "\n",
    "# print the results\n",
    "print(\n",
    "    \"mean x : \" + str(mean_gyr_x) + \"\\n\" +\n",
    "    \"mean y : \" + str(mean_gyr_y) + \"\\n\" +\n",
    "    \"mean z : \" + str(mean_gyr_z) + \"\\n\" +\n",
    "    \"var x : \" + str(var_gyr_x) + \"\\n\" +\n",
    "    \"var y : \" + str(var_gyr_y) + \"\\n\" + \n",
    "    \"var z : \" + str(var_gyr_z) + \"\\n\" +\n",
    "    \"norm x : \" + str(norm_x) + \"\\n\" +\n",
    "    \"norm y : \" + str(norm_y) + \"\\n\" + \n",
    "    \"norm z : \" + str(norm_z) + \"\\n\" +\n",
    "    \"s_mean x : \" + str(s_mean_x) + \"\\n\" +\n",
    "    \"s_mean y : \" + str(s_mean_y) + \"\\n\" + \n",
    "    \"s_mean z : \" + str(s_mean_z) + \"\\n\" +\n",
    "    \"resultant : \" + str(resultant)\n",
    ")"
   ]
  },
  {
   "cell_type": "code",
   "execution_count": 19,
   "metadata": {
    "collapsed": false
   },
   "outputs": [],
   "source": [
    "# Graph for the 'turn to the left' activity\n",
    "# len(sample) = 57\n",
    "\n",
    "start_turn_left = 1470488004999\n",
    "end_turn_left = 1470488015030\n",
    "#start_turn_left = 1470487984339 # perte de 3s au début sur l'enregistrement initial\n",
    "#end_turn_left = 1470487991009\n",
    "\n",
    "turn_left_data = extract_data_for(start_turn_left, end_turn_left, df)\n",
    "\n",
    "plot_for('turn left', turn_left_data)"
   ]
  },
  {
   "cell_type": "code",
   "execution_count": 20,
   "metadata": {
    "collapsed": false
   },
   "outputs": [],
   "source": [
    "# Graph for the 'roundabout' activity\n",
    "# len(sample) = 97\n",
    "\n",
    "start_roundabout = 1470487927986\n",
    "end_roundabout = 1470487945001\n",
    "\n",
    "roundabout_data = extract_data_for(start_roundabout, end_roundabout, df)\n",
    "\n",
    "plot_for('roundabout', roundabout_data)"
   ]
  },
  {
   "cell_type": "code",
   "execution_count": 21,
   "metadata": {
    "collapsed": false
   },
   "outputs": [],
   "source": [
    "# Graph for the 'normal acceleration' activity\n",
    "# len(sample) = 50\n",
    "\n",
    "start_n_acc = 1470488383991\n",
    "end_n_acc = 1470488393015\n",
    "\n",
    "n_acc_data = extract_data_for(start_n_acc, end_n_acc, df)\n",
    "\n",
    "plot_for('normal acceleration', n_acc_data)"
   ]
  },
  {
   "cell_type": "code",
   "execution_count": 22,
   "metadata": {
    "collapsed": false
   },
   "outputs": [],
   "source": [
    "# Graph for the 'normal braking' activity\n",
    "# len(sample) = 28\n",
    "\n",
    "start_n_braking = 1470488544993\n",
    "end_n_braking = 1470488550003\n",
    "\n",
    "n_braking_data = extract_data_for(start_n_braking, end_n_braking, df)\n",
    "\n",
    "plot_for('normal braking', n_braking_data)"
   ]
  },
  {
   "cell_type": "code",
   "execution_count": 23,
   "metadata": {
    "collapsed": false
   },
   "outputs": [],
   "source": [
    "# Graph for the 'left change' activity\n",
    "# len(sample) = 46\n",
    "\n",
    "start_l_change = 1470488823993\n",
    "end_l_change = 1470488832034\n",
    "#start_l_change = 1470488855992\n",
    "#end_l_change = 1470488863032\n",
    "\n",
    "l_change_data = extract_data_for(start_l_change, end_l_change, df)\n",
    "\n",
    "plot_for('left change', l_change_data)"
   ]
  },
  {
   "cell_type": "code",
   "execution_count": 24,
   "metadata": {
    "collapsed": false
   },
   "outputs": [],
   "source": [
    "# Graph for the 'right change' activity\n",
    "# len(sample) = 38\n",
    "\n",
    "start_r_change = 1470488943005\n",
    "end_r_change = 1470488949706\n",
    "\n",
    "r_change_data = extract_data_for(start_r_change, end_r_change, df)\n",
    "\n",
    "plot_for('right change', r_change_data)"
   ]
  },
  {
   "cell_type": "code",
   "execution_count": 25,
   "metadata": {
    "collapsed": false
   },
   "outputs": [],
   "source": [
    "# Graph for the 'U turn' activity\n",
    "# len(sample) = 83\n",
    "\n",
    "start_u_turn = 1470488090031\n",
    "end_u_turn = 1470488105019\n",
    "\n",
    "u_turn_data = extract_data_for(start_u_turn, end_u_turn, df)\n",
    "\n",
    "plot_for('U turn', u_turn_data)"
   ]
  }
 ],
 "metadata": {
  "kernelspec": {
   "display_name": "Python 3",
   "language": "python",
   "name": "python3"
  },
  "language_info": {
   "codemirror_mode": {
    "name": "ipython",
    "version": 3
   },
   "file_extension": ".py",
   "mimetype": "text/x-python",
   "name": "python",
   "nbconvert_exporter": "python",
   "pygments_lexer": "ipython3",
   "version": "3.4.1"
  }
 },
 "nbformat": 4,
 "nbformat_minor": 0
}
