{
 "cells": [
  {
   "cell_type": "code",
   "execution_count": 4,
   "metadata": {
    "collapsed": true
   },
   "outputs": [],
   "source": [
    "# Read the CSV file\n",
    "\n",
    "import pandas as pd\n",
    "import numpy as np\n",
    "import matplotlib.pyplot as plt\n",
    "import matplotlib.dates as mdate\n",
    "import matplotlib.ticker as mtick\n",
    "from datetime import datetime\n",
    "import time\n",
    "\n",
    "df = pd.read_csv('datasets/2016-06-08_tests.csv')\n",
    "\n",
    "f = lambda x: df[x] != 0\n",
    "# Keep values from the accelerometer\n",
    "df = df[f('acc_x') & f('acc_y') & f('acc_z')]"
   ]
  },
  {
   "cell_type": "code",
   "execution_count": 7,
   "metadata": {
    "collapsed": false
   },
   "outputs": [],
   "source": [
    "# some functions...\n",
    "\n",
    "def extract_data_for(start_activity, end_activity, dataframe):\n",
    "    data = dataframe[(dataframe['timestamp'] > start_activity) & (dataframe['timestamp'] < end_activity)]\n",
    "\n",
    "    # Sort & reindex data\n",
    "    data = data.sort_values(['timestamp'])\n",
    "    data = data.reset_index(drop=True)\n",
    "    return data\n",
    "\n",
    "def format_time(date):\n",
    "    count = 0\n",
    "    datetime_ticks = []\n",
    "    date_ticks = []\n",
    "    while count < len(date):  \n",
    "        if count % 100 == 0:\n",
    "            datetime_ticks.append(date[count].item())\n",
    "            date_ticks.append(time.strftime('%H:%M:%S', time.gmtime(date[count].item() / 1000)))\n",
    "\n",
    "        count += 1\n",
    "    return datetime_ticks, date_ticks\n",
    "\n",
    "def plot_for(activity, data):\n",
    "    date = data['timestamp']\n",
    "\n",
    "    # Define a new x scale\n",
    "    tick_val = format_time(date)[0]\n",
    "    tick_lab = format_time(date)[1]\n",
    "\n",
    "    plt.plot(date, data['acc_x'], color='red')\n",
    "    plt.plot(date, data['acc_y'], color='green')\n",
    "    plt.plot(date, data['acc_z'], color='blue')\n",
    "    plt.xticks(tick_val, tick_lab)\n",
    "    \n",
    "    plt.xlabel('time')\n",
    "    plt.ylabel('red: acc X, green: acc Y, blue: acc Z')\n",
    "    plt.title('Acceleration over time for ' + activity)\n",
    "    \n",
    "    plt.show()"
   ]
  },
  {
   "cell_type": "code",
   "execution_count": 8,
   "metadata": {
    "collapsed": false
   },
   "outputs": [],
   "source": [
    "# Graph for the 'straight line' activity\n",
    "# len(sample) = 496\n",
    "\n",
    "start_straight_line = 1470487739978 \n",
    "end_straight_line = 1470487750096\n",
    "#start_straight_line = 1470487779992 \n",
    "#end_straight_line = 1470487790004\n",
    "#start_straight_line = 1470487874986\n",
    "#end_straight_line = 1470487885016\n",
    "\n",
    "straight_line_data = extract_data_for(start_straight_line, end_straight_line, df)\n",
    "\n",
    "activity = 'straight line'\n",
    "\n",
    "plot_for(activity, straight_line_data)"
   ]
  },
  {
   "cell_type": "code",
   "execution_count": 22,
   "metadata": {
    "collapsed": false
   },
   "outputs": [],
   "source": [
    "# Graph for the 'turn to the left' activity\n",
    "# len(sample) = 492\n",
    "\n",
    "start_turn_left = 1470488004999\n",
    "end_turn_left = 1470488015030\n",
    "#start_turn_left = 1470487984339 # perte de 3s au début sur l'enregistrement initial\n",
    "#end_turn_left = 1470487991009\n",
    "\n",
    "turn_left_data = extract_data_for(start_turn_left, end_turn_left, df)\n",
    "\n",
    "activity = 'turn left'\n",
    "\n",
    "plot_for(activity, turn_left_data)"
   ]
  },
  {
   "cell_type": "code",
   "execution_count": 23,
   "metadata": {
    "collapsed": false
   },
   "outputs": [],
   "source": [
    "# Graph for the 'roundabout' activity\n",
    "# len(sample) = 835\n",
    "\n",
    "start_roundabout = 1470487927986\n",
    "end_roundabout = 1470487945001\n",
    "\n",
    "roundabout_data = extract_data_for(start_roundabout, end_roundabout, df)\n",
    "\n",
    "activity = 'roundabout'\n",
    "\n",
    "plot_for(activity, roundabout_data)"
   ]
  },
  {
   "cell_type": "code",
   "execution_count": 9,
   "metadata": {
    "collapsed": false
   },
   "outputs": [],
   "source": [
    "# Graph for the 'normal acceleration' activity\n",
    "# len(sample) = 204\n",
    "\n",
    "start_n_acc = 1470488383991\n",
    "end_n_acc = 1470488393015\n",
    "\n",
    "n_acc_data = extract_data_for(start_n_acc, end_n_acc, df)\n",
    "\n",
    "activity = 'normal acceleration'\n",
    "\n",
    "plot_for(activity, n_acc_data)"
   ]
  },
  {
   "cell_type": "code",
   "execution_count": 10,
   "metadata": {
    "collapsed": false
   },
   "outputs": [],
   "source": [
    "# Graph for the 'normal braking' activity\n",
    "# len(sample) = 243\n",
    "\n",
    "start_n_braking = 1470488544993\n",
    "end_n_braking = 1470488550003\n",
    "\n",
    "n_braking_data = extract_data_for(start_n_braking, end_n_braking, df)\n",
    "\n",
    "activity = 'normal braking'\n",
    "\n",
    "plot_for(activity, n_braking_data)"
   ]
  },
  {
   "cell_type": "code",
   "execution_count": 34,
   "metadata": {
    "collapsed": false
   },
   "outputs": [],
   "source": [
    "# Graph for the 'left change' activity\n",
    "# len(sample) = 393\n",
    "\n",
    "start_l_change = 1470488823993\n",
    "end_l_change = 1470488832034\n",
    "#start_l_change = 1470488855992\n",
    "#end_l_change = 1470488863032\n",
    "\n",
    "l_change_data = extract_data_for(start_l_change, end_l_change, df)\n",
    "\n",
    "activity = 'left change'\n",
    "\n",
    "plot_for(activity, l_change_data)"
   ]
  },
  {
   "cell_type": "code",
   "execution_count": 32,
   "metadata": {
    "collapsed": false
   },
   "outputs": [],
   "source": [
    "# Graph for the 'right change' activity\n",
    "# len(sample) = 329\n",
    "\n",
    "start_r_change = 1470488943005\n",
    "end_r_change = 1470488949706\n",
    "\n",
    "r_change_data = extract_data_for(start_r_change, end_r_change, df)\n",
    "\n",
    "activity = 'right change'\n",
    "\n",
    "plot_for(activity, r_change_data)"
   ]
  },
  {
   "cell_type": "code",
   "execution_count": 30,
   "metadata": {
    "collapsed": false
   },
   "outputs": [],
   "source": [
    "# Graph for the 'U turn' activity\n",
    "# len(sample) = 751\n",
    "\n",
    "start_u_turn = 1470488090031\n",
    "end_u_turn = 1470488105019\n",
    "\n",
    "u_turn_data = extract_data_for(start_u_turn, end_u_turn, df)\n",
    "\n",
    "activity = 'U turn'\n",
    "\n",
    "plot_for(activity, u_turn_data)"
   ]
  },
  {
   "cell_type": "code",
   "execution_count": null,
   "metadata": {
    "collapsed": true
   },
   "outputs": [],
   "source": []
  }
 ],
 "metadata": {
  "kernelspec": {
   "display_name": "Python 3",
   "language": "python",
   "name": "python3"
  },
  "language_info": {
   "codemirror_mode": {
    "name": "ipython",
    "version": 3
   },
   "file_extension": ".py",
   "mimetype": "text/x-python",
   "name": "python",
   "nbconvert_exporter": "python",
   "pygments_lexer": "ipython3",
   "version": "3.4.1"
  }
 },
 "nbformat": 4,
 "nbformat_minor": 0
}
