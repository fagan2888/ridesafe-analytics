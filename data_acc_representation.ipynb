{
 "cells": [
  {
   "cell_type": "code",
   "execution_count": 1,
   "metadata": {
    "collapsed": true
   },
   "outputs": [],
   "source": [
    "import pandas as pd\n",
    "import numpy as np\n",
    "import matplotlib.pyplot as plt\n",
    "import matplotlib.dates as mdate\n",
    "import matplotlib.ticker as mtick\n",
    "from datetime import datetime\n",
    "import time\n",
    "\n",
    "df = pd.read_csv('datasets/2016-06-08_tests.csv')\n",
    "\n",
    "f = lambda x: df[x] != 0\n",
    "# Keep values from the accelerometer\n",
    "df = df[f('acc_x') & f('acc_y') & f('acc_z')]"
   ]
  },
  {
   "cell_type": "code",
   "execution_count": 48,
   "metadata": {
    "collapsed": false
   },
   "outputs": [],
   "source": [
    "# some functions...\n",
    "\n",
    "def extract_data_for(start_activity, end_activity, dataframe):\n",
    "    data = dataframe[(dataframe['timestamp'] > start_activity) & (dataframe['timestamp'] < end_activity)]\n",
    "\n",
    "    # Sort & reindex data\n",
    "    data = data.sort_values(['timestamp'])\n",
    "    data = data.reset_index(drop=True)\n",
    "    return data\n",
    "\n",
    "def format_time(date):\n",
    "    count = 0\n",
    "    datetime_ticks = []\n",
    "    date_ticks = []\n",
    "    while count < len(date):  \n",
    "        if count % 100 == 0:\n",
    "            datetime_ticks.append(date[count].item())\n",
    "            date_ticks.append(time.strftime('%H:%M:%S', time.gmtime(date[count].item() / 1000)))\n",
    "\n",
    "        count += 1\n",
    "    return datetime_ticks, date_ticks\n",
    "\n",
    "def plot_for(activity, data):\n",
    "    date = data['timestamp']\n",
    "\n",
    "    # Define a new x scale\n",
    "    tick_val = format_time(date)[0]\n",
    "    tick_lab = format_time(date)[1]\n",
    "\n",
    "    plt.plot(date, data['acc_x'], color='red')\n",
    "    plt.plot(date, data['acc_y'], color='green')\n",
    "    plt.plot(date, data['acc_z'], color='blue')\n",
    "    plt.xticks(tick_val, tick_lab)\n",
    "    \n",
    "    plt.xlabel('time')\n",
    "    plt.ylabel('red: acc X, green: acc Y, blue: acc Z')\n",
    "    plt.title('Acceleration over time for ' + activity)\n",
    "    \n",
    "    plt.show()\n",
    "    \n",
    "def mean(axis, data):\n",
    "    return data[axis].mean()\n",
    "\n",
    "def var(axis, data):\n",
    "    return data[axis].var()\n",
    "\n",
    "# 1 / n * ∑ √(x² + y² + z²)\n",
    "def resultant(data):\n",
    "    return np.sqrt(np.square(data).sum(axis=1)).sum() / len(data)\n",
    "\n",
    "# 1 / n * √(∑ x_i²)\n",
    "def norm_euc(axis, data):\n",
    "    return np.sqrt(np.square(data[axis]).sum()) / len(data)\n",
    "\n",
    "# 1 / n * ∑ |xi - mean_x|\n",
    "def s_mean(axis, data):\n",
    "    return np.abs(data[axis] - data[axis].mean()).sum() / len(data)\n",
    "\n",
    "def minimum(data):\n",
    "    min_x = np.min(data['acc_x'])\n",
    "    min_y = np.min(data['acc_y'])\n",
    "    min_z = np.min(data['acc_z'])\n",
    "    return str(min_x) + ',' + str(min_y) + ',' + str(min_z)\n",
    "\n",
    "def maximum(data):\n",
    "    max_x = np.max(data['acc_x'])\n",
    "    max_y = np.max(data['acc_y'])\n",
    "    max_z = np.max(data['acc_z'])\n",
    "    return str(max_x) + ',' + str(max_y) + ',' + str(max_z)\n",
    "\n",
    "def amplitude(data):\n",
    "    amplitude_x = np.max(data['acc_x']) - np.min(data['acc_x'])\n",
    "    amplitude_y = np.max(data['acc_y']) - np.min(data['acc_y'])\n",
    "    amplitude_z = np.max(data['acc_z']) - np.min(data['acc_z'])\n",
    "    return str(amplitude_x) + ',' + str(amplitude_y) + ',' + str(amplitude_z)\n",
    "    \n",
    "def ovr(data):\n",
    "    return np.sqrt(np.square(data['acc_x']) + np.square(data['acc_y']) + np.square(data['acc_z'])) - 9\n",
    "\n",
    "def lr(data):\n",
    "    return"
   ]
  },
  {
   "cell_type": "code",
   "execution_count": 49,
   "metadata": {
    "collapsed": false
   },
   "outputs": [
    {
     "name": "stdout",
     "output_type": "stream",
     "text": [
      "       timestamp     acc_x     acc_y      acc_z  gyr_x  gyr_y  gyr_z\n",
      "0  1470487740015 -0.196503 -1.174301   9.193771    0.0    0.0    0.0\n",
      "1  1470487740031 -0.748810 -1.103653   9.609756    0.0    0.0    0.0\n",
      "2  1470487740050 -0.204025 -0.248093   9.619034    0.0    0.0    0.0\n",
      "3  1470487740066 -0.079239 -0.601379  10.103241    0.0    0.0    0.0\n",
      "4  1470487740083 -0.808975 -0.830154   9.217667    0.0    0.0    0.0\n"
     ]
    }
   ],
   "source": [
    "# Graph for the 'straight line' activity\n",
    "# len(sample) = 496\n",
    "\n",
    "start_straight_line = 1470487739978 \n",
    "end_straight_line = 1470487750096\n",
    "#start_straight_line = 1470487779992 \n",
    "#end_straight_line = 1470487790004\n",
    "#start_straight_line = 1470487874986\n",
    "#end_straight_line = 1470487885016\n",
    "\n",
    "straight_line_data = extract_data_for(start_straight_line, end_straight_line, df)\n",
    "\n",
    "activity = 'straight line'\n",
    "print(straight_line_data.head())\n",
    "#plot_for(activity, straight_line_data)"
   ]
  },
  {
   "cell_type": "code",
   "execution_count": 50,
   "metadata": {
    "collapsed": false
   },
   "outputs": [
    {
     "name": "stdout",
     "output_type": "stream",
     "text": [
      "min x,y,z : -1.959732,-1.8201904,8.737595\n",
      "max x,y,z : 0.48960876,-0.08859253,10.678543\n",
      "amplitude : 2.44934076,1.73159787,1.940948\n",
      "mean x,y,z: -0.551786669484,-0.979970132712,9.74940125101\n",
      "var x,y,z : 0.191140659054,0.134645384566,0.105894013161\n",
      "norm x : 0.031598024114\n",
      "norm y : 0.0469796494872\n",
      "norm z : 0.438004329755\n",
      "s_mean x : 0.356858988629\n",
      "s_mean y : 0.297356737552\n",
      "s_mean z : 0.262261083629\n",
      "resultant : 1.47048774503e+12\n",
      "ovr : 0      0.270546\n",
      "1      0.701865\n",
      "2      0.624396\n",
      "3      1.121433\n",
      "4      0.290263\n",
      "5      0.586535\n",
      "6      0.093773\n",
      "7      1.064974\n",
      "8      0.969522\n",
      "9      1.073516\n",
      "10     0.980522\n",
      "11     1.124055\n",
      "12     0.631286\n",
      "13     0.965015\n",
      "14     1.084721\n",
      "15     1.662250\n",
      "16     0.703152\n",
      "17     0.309274\n",
      "18     0.330364\n",
      "19     1.454564\n",
      "20     0.973955\n",
      "21     1.101100\n",
      "22     0.552395\n",
      "23     0.241575\n",
      "24     0.589953\n",
      "25     1.329895\n",
      "26     1.220368\n",
      "27     0.813583\n",
      "28     0.737105\n",
      "29     0.554936\n",
      "         ...   \n",
      "466    0.735683\n",
      "467    0.641612\n",
      "468    1.040764\n",
      "469    0.926847\n",
      "470    1.005342\n",
      "471    0.232694\n",
      "472    0.896057\n",
      "473    0.547397\n",
      "474    1.201455\n",
      "475    0.896878\n",
      "476    0.999864\n",
      "477    0.708063\n",
      "478    1.404342\n",
      "479    1.484230\n",
      "480    1.216473\n",
      "481    0.678136\n",
      "482    0.108959\n",
      "483    0.195570\n",
      "484    0.434785\n",
      "485    1.236743\n",
      "486    0.848438\n",
      "487    0.913346\n",
      "488    0.810011\n",
      "489    0.788649\n",
      "490    0.471331\n",
      "491    0.982099\n",
      "492    0.431352\n",
      "493    1.021670\n",
      "494    0.768537\n",
      "495    0.950415\n",
      "dtype: float64\n"
     ]
    }
   ],
   "source": [
    "# min / max / amplitude\n",
    "mini = minimum(straight_line_data)\n",
    "maxi = maximum(straight_line_data)\n",
    "amplitude = amplitude(straight_line_data)\n",
    "\n",
    "# Compute the mean, for each axis\n",
    "mean_acc_x = mean('acc_x', straight_line_data)\n",
    "mean_acc_y = mean('acc_y', straight_line_data)\n",
    "mean_acc_z = mean('acc_z', straight_line_data)\n",
    "\n",
    "# Compute the variance, for each axis\n",
    "var_acc_x = var('acc_x', straight_line_data)\n",
    "var_acc_y = var('acc_y', straight_line_data)\n",
    "var_acc_z = var('acc_z', straight_line_data)\n",
    "\n",
    "# Compute the norm for each axis\n",
    "norm_x = norm_euc('acc_x', straight_line_data)\n",
    "norm_y = norm_euc('acc_y', straight_line_data)\n",
    "norm_z = norm_euc('acc_z', straight_line_data)\n",
    "\n",
    "# Compute s_mean, for each axis\n",
    "s_mean_x = s_mean('acc_x', straight_line_data)\n",
    "s_mean_y = s_mean('acc_y', straight_line_data)\n",
    "s_mean_z = s_mean('acc_z', straight_line_data)\n",
    "\n",
    "# Compute the resultant\n",
    "resultant = resultant(straight_line_data)\n",
    "\n",
    "# Compute ovr\n",
    "ovr = ovr(straight_line_data)\n",
    "\n",
    "# print the results\n",
    "print(\n",
    "    \"min x,y,z : \" + mini + \"\\n\" +\n",
    "    \"max x,y,z : \" + maxi + \"\\n\" +\n",
    "    \"amplitude x,y,z : \" + amplitude + \"\\n\" +\n",
    "    \"mean x,y,z: \" + str(mean_acc_x) + \",\" + str(mean_acc_y) + \",\" + str(mean_acc_z) + \"\\n\" +\n",
    "    \"var x,y,z : \" + str(var_acc_x) + \",\" + str(var_acc_y) + \",\" + str(var_acc_z) + \"\\n\" +\n",
    "    \"norm x : \" + str(norm_x) + \"\\n\" +\n",
    "    \"norm y : \" + str(norm_y) + \"\\n\" + \n",
    "    \"norm z : \" + str(norm_z) + \"\\n\" +\n",
    "    \"s_mean x : \" + str(s_mean_x) + \"\\n\" +\n",
    "    \"s_mean y : \" + str(s_mean_y) + \"\\n\" + \n",
    "    \"s_mean z : \" + str(s_mean_z) + \"\\n\" +\n",
    "    \"resultant : \" + str(resultant) + \"\\n\" +\n",
    "    \"ovr : \" + str(ovr)\n",
    ")"
   ]
  },
  {
   "cell_type": "code",
   "execution_count": 75,
   "metadata": {
    "collapsed": false
   },
   "outputs": [],
   "source": [
    "# Graph for the 'turn to the left' activity\n",
    "# len(sample) = 492\n",
    "\n",
    "start_turn_left = 1470488004999\n",
    "end_turn_left = 1470488015030\n",
    "#start_turn_left = 1470487984339 # perte de 3s au début sur l'enregistrement initial\n",
    "#end_turn_left = 1470487991009\n",
    "\n",
    "turn_left_data = extract_data_for(start_turn_left, end_turn_left, df)\n",
    "\n",
    "activity = 'turn left'\n",
    "\n",
    "plot_for(activity, turn_left_data)"
   ]
  },
  {
   "cell_type": "code",
   "execution_count": 23,
   "metadata": {
    "collapsed": false
   },
   "outputs": [],
   "source": [
    "# Graph for the 'roundabout' activity\n",
    "# len(sample) = 835\n",
    "\n",
    "start_roundabout = 1470487927986\n",
    "end_roundabout = 1470487945001\n",
    "\n",
    "roundabout_data = extract_data_for(start_roundabout, end_roundabout, df)\n",
    "\n",
    "activity = 'roundabout'\n",
    "\n",
    "plot_for(activity, roundabout_data)"
   ]
  },
  {
   "cell_type": "code",
   "execution_count": 9,
   "metadata": {
    "collapsed": false
   },
   "outputs": [],
   "source": [
    "# Graph for the 'normal acceleration' activity\n",
    "# len(sample) = 204\n",
    "\n",
    "start_n_acc = 1470488383991\n",
    "end_n_acc = 1470488393015\n",
    "\n",
    "n_acc_data = extract_data_for(start_n_acc, end_n_acc, df)\n",
    "\n",
    "activity = 'normal acceleration'\n",
    "\n",
    "plot_for(activity, n_acc_data)"
   ]
  },
  {
   "cell_type": "code",
   "execution_count": 10,
   "metadata": {
    "collapsed": false
   },
   "outputs": [],
   "source": [
    "# Graph for the 'normal braking' activity\n",
    "# len(sample) = 243\n",
    "\n",
    "start_n_braking = 1470488544993\n",
    "end_n_braking = 1470488550003\n",
    "\n",
    "n_braking_data = extract_data_for(start_n_braking, end_n_braking, df)\n",
    "\n",
    "activity = 'normal braking'\n",
    "\n",
    "plot_for(activity, n_braking_data)"
   ]
  },
  {
   "cell_type": "code",
   "execution_count": 34,
   "metadata": {
    "collapsed": false
   },
   "outputs": [],
   "source": [
    "# Graph for the 'left change' activity\n",
    "# len(sample) = 393\n",
    "\n",
    "start_l_change = 1470488823993\n",
    "end_l_change = 1470488832034\n",
    "#start_l_change = 1470488855992\n",
    "#end_l_change = 1470488863032\n",
    "\n",
    "l_change_data = extract_data_for(start_l_change, end_l_change, df)\n",
    "\n",
    "activity = 'left change'\n",
    "\n",
    "plot_for(activity, l_change_data)"
   ]
  },
  {
   "cell_type": "code",
   "execution_count": 11,
   "metadata": {
    "collapsed": false
   },
   "outputs": [],
   "source": [
    "# Graph for the 'right change' activity\n",
    "# len(sample) = 329\n",
    "\n",
    "start_r_change = 1470488943005\n",
    "end_r_change = 1470488949706\n",
    "\n",
    "r_change_data = extract_data_for(start_r_change, end_r_change, df)\n",
    "\n",
    "activity = 'right change'\n",
    "\n",
    "plot_for(activity, r_change_data)"
   ]
  },
  {
   "cell_type": "code",
   "execution_count": 12,
   "metadata": {
    "collapsed": false
   },
   "outputs": [],
   "source": [
    "# Graph for the 'U turn' activity\n",
    "# len(sample) = 751\n",
    "\n",
    "start_u_turn = 1470488090031\n",
    "end_u_turn = 1470488105019\n",
    "\n",
    "u_turn_data = extract_data_for(start_u_turn, end_u_turn, df)\n",
    "\n",
    "activity = 'U turn'\n",
    "\n",
    "plot_for(activity, u_turn_data)"
   ]
  },
  {
   "cell_type": "code",
   "execution_count": null,
   "metadata": {
    "collapsed": true
   },
   "outputs": [],
   "source": []
  }
 ],
 "metadata": {
  "kernelspec": {
   "display_name": "Python 3",
   "language": "python",
   "name": "python3"
  },
  "language_info": {
   "codemirror_mode": {
    "name": "ipython",
    "version": 3
   },
   "file_extension": ".py",
   "mimetype": "text/x-python",
   "name": "python",
   "nbconvert_exporter": "python",
   "pygments_lexer": "ipython3",
   "version": "3.4.1"
  }
 },
 "nbformat": 4,
 "nbformat_minor": 0
}
